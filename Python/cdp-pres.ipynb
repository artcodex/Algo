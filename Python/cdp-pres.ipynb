{
 "cells": [
  {
   "attachments": {},
   "cell_type": "markdown",
   "metadata": {},
   "source": [
    "## Imports"
   ]
  },
  {
   "cell_type": "code",
   "execution_count": 1,
   "metadata": {},
   "outputs": [],
   "source": [
    "import pandas as pd\n",
    "import polars as pl\n",
    "from salesforcecdpconnector.connection import SalesforceCDPConnection\n"
   ]
  },
  {
   "attachments": {},
   "cell_type": "markdown",
   "metadata": {},
   "source": [
    "## CDP Connection"
   ]
  },
  {
   "cell_type": "code",
   "execution_count": 2,
   "metadata": {},
   "outputs": [],
   "source": []
  },
  {
   "attachments": {},
   "cell_type": "markdown",
   "metadata": {},
   "source": [
    "## Very large dataframe"
   ]
  },
  {
   "attachments": {},
   "cell_type": "markdown",
   "metadata": {},
   "source": [
    "### Pandas "
   ]
  },
  {
   "cell_type": "code",
   "execution_count": 34,
   "metadata": {},
   "outputs": [],
   "source": [
    "pd_very_large_frame = conn.get_pandas_dataframe('SELECT index__c, open__c, cat__c FROM testFile2__dll LIMIT 100000000')"
   ]
  },
  {
   "attachments": {},
   "cell_type": "markdown",
   "metadata": {},
   "source": [
    "### Polars"
   ]
  },
  {
   "cell_type": "code",
   "execution_count": 30,
   "metadata": {},
   "outputs": [],
   "source": [
    "pl_very_large_frame = conn.get_polars_dataframe('SELECT index__c, open__c, cat__c FROM testFile2__dll LIMIT 100000000')"
   ]
  },
  {
   "attachments": {},
   "cell_type": "markdown",
   "metadata": {},
   "source": [
    "## Large Dataframe"
   ]
  },
  {
   "attachments": {},
   "cell_type": "markdown",
   "metadata": {},
   "source": [
    "### Pandas"
   ]
  },
  {
   "cell_type": "code",
   "execution_count": 16,
   "metadata": {},
   "outputs": [],
   "source": [
    "pd_large_frame = conn.get_pandas_dataframe('SELECT index__c, open__c, cat__c FROM testFile2__dll LIMIT 50000000')"
   ]
  },
  {
   "attachments": {},
   "cell_type": "markdown",
   "metadata": {},
   "source": [
    "### Polars"
   ]
  },
  {
   "cell_type": "code",
   "execution_count": 22,
   "metadata": {},
   "outputs": [],
   "source": [
    "pl_large_frame = conn.get_polars_dataframe('SELECT index__c, open__c, cat__c FROM testFile2__dll LIMIT 50000000')"
   ]
  },
  {
   "attachments": {},
   "cell_type": "markdown",
   "metadata": {},
   "source": [
    "## Small Dataframe"
   ]
  },
  {
   "attachments": {},
   "cell_type": "markdown",
   "metadata": {},
   "source": [
    "### Pandas"
   ]
  },
  {
   "cell_type": "code",
   "execution_count": null,
   "metadata": {},
   "outputs": [],
   "source": [
    "pd_small_frame = conn.get_pandas_dataframe('SELECT index__c, open__c, cat__c FROM testFile2__dll LIMIT 50000')\n",
    "pd_small_frame"
   ]
  },
  {
   "attachments": {},
   "cell_type": "markdown",
   "metadata": {},
   "source": [
    "### Polars"
   ]
  },
  {
   "cell_type": "code",
   "execution_count": null,
   "metadata": {},
   "outputs": [],
   "source": [
    "pl_small_frame = conn.get_polars_dataframe('SELECT index__c, open__c, cat__c FROM testFile2__dll LIMIT 50000')\n",
    "pl_small_frame"
   ]
  },
  {
   "attachments": {},
   "cell_type": "markdown",
   "metadata": {},
   "source": [
    "## Pandas Tests"
   ]
  },
  {
   "cell_type": "code",
   "execution_count": null,
   "metadata": {},
   "outputs": [],
   "source": [
    "pd_large_filter = pd_large_frame[pd_large_frame['open__c'] >= 40000]\n",
    "pd_large_group_agg = pd_large_filter.groupby(['cat__c']).agg({'open__c':'mean'})\n",
    "pd_large_group_agg"
   ]
  },
  {
   "cell_type": "code",
   "execution_count": 47,
   "metadata": {},
   "outputs": [],
   "source": [
    "pd_very_large_filter = pd_very_large_frame[pd_very_large_frame['open__c'] >= 40000]\n",
    "pd_very_large_group_agg = pd_very_large_filter.groupby(['cat__c']).agg({'open__c':'mean'})"
   ]
  },
  {
   "attachments": {},
   "cell_type": "markdown",
   "metadata": {},
   "source": [
    "## Polars Tests"
   ]
  },
  {
   "cell_type": "code",
   "execution_count": null,
   "metadata": {},
   "outputs": [],
   "source": [
    "q = (\n",
    "    pl_large_frame\n",
    "    .lazy()\n",
    "    .filter(pl.col('open__c') >= 40000)\n",
    "    .groupby(by='cat__c')\n",
    "    .agg(pl.col('open__c').mean().alias('open(mean)'))\n",
    "    .sort('cat__c')\n",
    ")\n",
    "q.collect()"
   ]
  },
  {
   "cell_type": "code",
   "execution_count": null,
   "metadata": {},
   "outputs": [],
   "source": [
    "q = (\n",
    "    pl_very_large_frame\n",
    "    .lazy()\n",
    "    .filter(pl.col('open__c') >= 40000)\n",
    "    .groupby(by='cat__c')\n",
    "    .agg(pl.col('open__c').mean().alias('open(mean)'))\n",
    "    .sort('cat__c')\n",
    ")\n",
    "q.collect()"
   ]
  }
 ],
 "metadata": {
  "kernelspec": {
   "display_name": "cdp-play",
   "language": "python",
   "name": "cdp-play"
  },
  "language_info": {
   "codemirror_mode": {
    "name": "ipython",
    "version": 3
   },
   "file_extension": ".py",
   "mimetype": "text/x-python",
   "name": "python",
   "nbconvert_exporter": "python",
   "pygments_lexer": "ipython3",
   "version": "3.9.6"
  },
  "orig_nbformat": 4
 },
 "nbformat": 4,
 "nbformat_minor": 2
}
